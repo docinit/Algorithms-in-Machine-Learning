{
 "cells": [
  {
   "cell_type": "markdown",
   "metadata": {},
   "source": [
    "### Урок 3. Классификация. Логистическая регрессия."
   ]
  },
  {
   "cell_type": "code",
   "execution_count": 1,
   "metadata": {
    "colab": {},
    "colab_type": "code",
    "id": "zhwkeWtb1O0w"
   },
   "outputs": [],
   "source": [
    "import numpy as np\n",
    "import matplotlib.pyplot as plt"
   ]
  },
  {
   "cell_type": "code",
   "execution_count": 2,
   "metadata": {
    "colab": {},
    "colab_type": "code",
    "id": "FeKFn2yb1To4"
   },
   "outputs": [],
   "source": [
    "X = np.array([[1, 1, 1, 1, 1, 1, 1, 1, 1, 1],\n",
    "              [1, 1, 2, 5, 3, 0, 5, 10, 1, 2],\n",
    "              [500, 700, 750, 600, 1450, 800, 1500, 2000, 450, 1000],\n",
    "              [1, 1, 2, 1, 2,  1, 3, 3, 1, 2]], dtype = np.float64)\n",
    "y = np.array([0, 0, 1, 0, 1, 0, 1, 0, 1, 1], dtype = np.float64)"
   ]
  },
  {
   "cell_type": "code",
   "execution_count": 3,
   "metadata": {
    "colab": {
     "base_uri": "https://localhost:8080/",
     "height": 155
    },
    "colab_type": "code",
    "id": "yXSj4nbxHsFd",
    "outputId": "8d102d54-94bf-4acc-d5b8-d60da152b953",
    "scrolled": true
   },
   "outputs": [
    {
     "data": {
      "text/plain": [
       "array([[1.00e+00, 1.00e+00, 1.00e+00, 1.00e+00, 1.00e+00, 1.00e+00,\n",
       "        1.00e+00, 1.00e+00, 1.00e+00, 1.00e+00],\n",
       "       [1.00e+00, 1.00e+00, 2.00e+00, 5.00e+00, 3.00e+00, 0.00e+00,\n",
       "        5.00e+00, 1.00e+01, 1.00e+00, 2.00e+00],\n",
       "       [5.00e+02, 7.00e+02, 7.50e+02, 6.00e+02, 1.45e+03, 8.00e+02,\n",
       "        1.50e+03, 2.00e+03, 4.50e+02, 1.00e+03],\n",
       "       [1.00e+00, 1.00e+00, 2.00e+00, 1.00e+00, 2.00e+00, 1.00e+00,\n",
       "        3.00e+00, 3.00e+00, 1.00e+00, 2.00e+00]])"
      ]
     },
     "execution_count": 3,
     "metadata": {},
     "output_type": "execute_result"
    }
   ],
   "source": [
    "X"
   ]
  },
  {
   "cell_type": "code",
   "execution_count": 4,
   "metadata": {
    "colab": {
     "base_uri": "https://localhost:8080/",
     "height": 34
    },
    "colab_type": "code",
    "id": "QU0A16vZHugZ",
    "outputId": "71d74b95-77f4-41a7-e339-c9e7b2004e4b"
   },
   "outputs": [
    {
     "data": {
      "text/plain": [
       "array([0., 0., 1., 0., 1., 0., 1., 0., 1., 1.])"
      ]
     },
     "execution_count": 4,
     "metadata": {},
     "output_type": "execute_result"
    }
   ],
   "source": [
    "y"
   ]
  },
  {
   "cell_type": "code",
   "execution_count": 5,
   "metadata": {
    "colab": {},
    "colab_type": "code",
    "id": "M-aO1NTxOUfo"
   },
   "outputs": [],
   "source": [
    "def calc_std_feat(x):\n",
    "    res = (x - x.mean()) / x.std()\n",
    "    return res"
   ]
  },
  {
   "cell_type": "code",
   "execution_count": 6,
   "metadata": {
    "colab": {},
    "colab_type": "code",
    "id": "D8EL0iGJOVpe"
   },
   "outputs": [],
   "source": [
    "X_st = X.copy()\n",
    "X_st[2, :] = calc_std_feat(X[2, :])"
   ]
  },
  {
   "cell_type": "code",
   "execution_count": 7,
   "metadata": {
    "colab": {
     "base_uri": "https://localhost:8080/",
     "height": 155
    },
    "colab_type": "code",
    "id": "gviMxz7EOuI3",
    "outputId": "af9a2576-f4d7-41d7-e216-46e0a068cfad"
   },
   "outputs": [
    {
     "data": {
      "text/plain": [
       "array([[ 1.        ,  1.        ,  1.        ,  1.        ,  1.        ,\n",
       "         1.        ,  1.        ,  1.        ,  1.        ,  1.        ],\n",
       "       [ 1.        ,  1.        ,  2.        ,  5.        ,  3.        ,\n",
       "         0.        ,  5.        , 10.        ,  1.        ,  2.        ],\n",
       "       [-0.97958969, -0.56713087, -0.46401617, -0.77336028,  0.97958969,\n",
       "        -0.36090146,  1.08270439,  2.11385144, -1.08270439,  0.05155735],\n",
       "       [ 1.        ,  1.        ,  2.        ,  1.        ,  2.        ,\n",
       "         1.        ,  3.        ,  3.        ,  1.        ,  2.        ]])"
      ]
     },
     "execution_count": 7,
     "metadata": {},
     "output_type": "execute_result"
    }
   ],
   "source": [
    "X_st"
   ]
  },
  {
   "cell_type": "code",
   "execution_count": 8,
   "metadata": {
    "colab": {},
    "colab_type": "code",
    "id": "qMR5pOA38dDw"
   },
   "outputs": [],
   "source": [
    "def calc_logloss(y, y_pred):\n",
    "    err_ = []\n",
    "    for k,i in enumerate(y_pred):\n",
    "        if i==0 or y[k]==0:\n",
    "            err_.append((1.0 - y[k]) * np.log(1.0 - i))\n",
    "        else:\n",
    "            err_.append(y[k] * np.log(i))\n",
    "#     err = - np.mean(y * np.log(y_pred) + (1.0 - y) * np.log(1.0 - y_pred))\n",
    "    err = -sum(err_)/len(err_)\n",
    "    return err"
   ]
  },
  {
   "cell_type": "code",
   "execution_count": 9,
   "metadata": {
    "colab": {
     "base_uri": "https://localhost:8080/",
     "height": 34
    },
    "colab_type": "code",
    "id": "R6zfOHMrBvnX",
    "outputId": "46df0625-963f-4401-da30-b5b42bcf1be7"
   },
   "outputs": [
    {
     "data": {
      "text/plain": [
       "0.164252033486018"
      ]
     },
     "execution_count": 9,
     "metadata": {},
     "output_type": "execute_result"
    }
   ],
   "source": [
    "# Пример применения\n",
    "y1 = np.array([1, 0])\n",
    "y_pred1 = np.array([0.8, 0.1])\n",
    "calc_logloss(y1, y_pred1)"
   ]
  },
  {
   "cell_type": "code",
   "execution_count": 10,
   "metadata": {
    "colab": {},
    "colab_type": "code",
    "id": "EEF9rWPNDnss"
   },
   "outputs": [],
   "source": [
    "def sigmoid(z):\n",
    "    res = 1 / (1 + np.exp(-z))\n",
    "    return res"
   ]
  },
  {
   "cell_type": "code",
   "execution_count": 11,
   "metadata": {
    "colab": {},
    "colab_type": "code",
    "id": "_9tN8lBEEeXU"
   },
   "outputs": [],
   "source": [
    "z = np.linspace(-10, 10, 101)"
   ]
  },
  {
   "cell_type": "code",
   "execution_count": 12,
   "metadata": {
    "colab": {},
    "colab_type": "code",
    "id": "nvIe3RpbEp4l"
   },
   "outputs": [],
   "source": [
    "probabilities = sigmoid(z)"
   ]
  },
  {
   "cell_type": "code",
   "execution_count": 13,
   "metadata": {
    "colab": {
     "base_uri": "https://localhost:8080/",
     "height": 283
    },
    "colab_type": "code",
    "id": "jQsCfht0Et1V",
    "outputId": "0c11fcdd-1cf9-49db-aaa7-4fa520ff840a"
   },
   "outputs": [
    {
     "data": {
      "image/png": "[encoded data removed]",
      "text/plain": [
       "<Figure size 432x288 with 1 Axes>"
      ]
     },
     "metadata": {
      "needs_background": "light"
     },
     "output_type": "display_data"
    }
   ],
   "source": [
    "plt.plot(z, probabilities)\n",
    "plt.show()"
   ]
  },
  {
   "cell_type": "markdown",
   "metadata": {
    "colab": {},
    "colab_type": "code",
    "id": "e6TH-mkPItb6"
   },
   "source": [
    "Logistic Regression"
   ]
  },
  {
   "cell_type": "code",
   "execution_count": 14,
   "metadata": {
    "colab": {},
    "colab_type": "code",
    "id": "qtgUN3LW-UIq"
   },
   "outputs": [],
   "source": [
    "def eval_model(X, y, iterations, alpha=1e-4):\n",
    "    np.random.seed(42)\n",
    "    W = np.random.randn(X.shape[0])\n",
    "    W_checked = np.array([np.inf]*X.shape[0])\n",
    "    n = X.shape[1]\n",
    "    i=0\n",
    "    err_prev = np.inf\n",
    "    err = 100\n",
    "    print(W)\n",
    "    while (i < iterations) and (err_prev/err > 1e-1):\n",
    "        z = np.dot(W, X)\n",
    "        y_pred = sigmoid(z)\n",
    "        err_prev = err\n",
    "        err = calc_logloss(y, y_pred)\n",
    "        if ((W_checked[0]/W[0] < 1.001+alpha)|(W_checked[1]/W[1] < 1.001+alpha)) and (i % (iterations / 100) == 0):\n",
    "#             print(alpha, i)\n",
    "            alpha /= 1.1\n",
    "        if i % (iterations / 10) == 0:\n",
    "            print('итерация',i, '\\tальфа = ',round(alpha,10), '\\tlogloss = ',err)\n",
    "        i+=1\n",
    "        W_checked = W.copy()\n",
    "        W -= alpha * (1/n * np.dot((y_pred - y), X.T))\n",
    "    return i, alpha, W, err"
   ]
  },
  {
   "cell_type": "code",
   "execution_count": 15,
   "metadata": {
    "colab": {
     "base_uri": "https://localhost:8080/",
     "height": 190
    },
    "colab_type": "code",
    "id": "oqX7loklBmYZ",
    "outputId": "f4849295-1f14-40d8-c8f2-d1b002e130c5"
   },
   "outputs": [
    {
     "name": "stdout",
     "output_type": "stream",
     "text": [
      "[ 0.49671415 -0.1382643   0.64768854  1.52302986]\n",
      "итерация 0 \tальфа =  0.0909090909 \tlogloss =  1.1785958344356262\n",
      "итерация 1000000 \tальфа =  0.0350493899 \tlogloss =  0.06270681894991458\n",
      "итерация 2000000 \tальфа =  0.0135130571 \tlogloss =  0.05359857884098831\n",
      "итерация 3000000 \tальфа =  0.0052098685 \tlogloss =  0.05071217409419347\n",
      "итерация 4000000 \tальфа =  0.0020086298 \tlogloss =  0.049673377482854185\n",
      "итерация 5000000 \tальфа =  0.0007744138 \tlogloss =  0.049283080582692526\n",
      "итерация 6000000 \tальфа =  0.00029857 \tlogloss =  0.049134079153513824\n",
      "итерация 7000000 \tальфа =  0.0001151117 \tlogloss =  0.04907684956942886\n",
      "итерация 8000000 \tальфа =  4.43805e-05 \tlogloss =  0.04905481719932905\n",
      "итерация 9000000 \tальфа =  1.71106e-05 \tlogloss =  0.0490463275326572\n"
     ]
    }
   ],
   "source": [
    "n_iterations, alpha, W, err = eval_model(X_st, y, iterations=10000000, alpha=1e-1)"
   ]
  },
  {
   "cell_type": "code",
   "execution_count": 16,
   "metadata": {},
   "outputs": [
    {
     "data": {
      "text/plain": [
       "(10000000,\n",
       " 7.256571590148142e-06,\n",
       " array([-89.32118838,  -7.46904096, -25.4700489 ,  70.56700571]),\n",
       " 0.04904305510865886)"
      ]
     },
     "execution_count": 16,
     "metadata": {},
     "output_type": "execute_result"
    }
   ],
   "source": [
    "n_iterations, alpha, W, err"
   ]
  },
  {
   "cell_type": "code",
   "execution_count": 17,
   "metadata": {},
   "outputs": [
    {
     "data": {
      "text/plain": [
       "array([4.55200491e-01, 2.35076038e-05, 1.94939389e-06, 4.15045843e-03,\n",
       "       2.26783737e-22, 1.26624365e-07, 1.85191605e-23, 7.20095747e-35,\n",
       "       9.19822731e-01, 3.99453419e-12])"
      ]
     },
     "execution_count": 17,
     "metadata": {},
     "output_type": "execute_result"
    }
   ],
   "source": [
    "def calc_pred_proba (W,X):\n",
    "    X = calc_std_feat(X)\n",
    "    y_pred_proba = sigmoid(np.dot(W.T, X))\n",
    "    return y_pred_proba\n",
    "\n",
    "calc_pred_proba(W,X)"
   ]
  },
  {
   "cell_type": "code",
   "execution_count": 22,
   "metadata": {},
   "outputs": [],
   "source": [
    "def calc_pred (W,X):\n",
    "    X = calc_std_feat(X)\n",
    "    y_pred_proba = sigmoid(np.dot(W.T, X))>0.5\n",
    "    return [1 if i else 0 for i in y_pred_proba ]\n",
    "\n",
    "result_1 = calc_pred(W,X)\n",
    "result_1"
   ]
  },
  {
   "cell_type": "code",
   "execution_count": 40,
   "metadata": {},
   "outputs": [
    {
     "name": "stdout",
     "output_type": "stream",
     "text": [
      "accuracy =  0.2\n",
      "precision =  1.0\n",
      "recall =  0.2\n",
      "f1_score =  0.33333333333333337\n"
     ]
    }
   ],
   "source": [
    "true_1_values = 0\n",
    "false_1_values = 0\n",
    "true_0_values = 0\n",
    "false_0_values = 0\n",
    "for k,i in enumerate(y):\n",
    "    if y[k]==result_1[k] and y[k] ==1:\n",
    "        true_1_values+=1\n",
    "    elif y[k]==result_1[k] and y[k] ==0:\n",
    "        true_0_values+=1\n",
    "    elif y[k]!=result_1[k] and y[k] ==1:\n",
    "        false_0_values+=1\n",
    "    elif y[k]!=result_1[k] and y[k] ==0:\n",
    "        false_1_values+=1\n",
    "positive_rate = len(y[y==1])\n",
    "\n",
    "accuracy = true_1_values / positive_rate\n",
    "print('accuracy = ',accuracy)\n",
    "precision = true_1_values / (true_1_values + false_1_values)\n",
    "recall = true_1_values / (true_1_values + false_0_values)\n",
    "print('precision = ',precision)\n",
    "print('recall = ',recall)\n",
    "print('f1_score = ', 2*precision*recall / (precision+recall))"
   ]
  },
  {
   "cell_type": "code",
   "execution_count": 39,
   "metadata": {},
   "outputs": [
    {
     "name": "stdout",
     "output_type": "stream",
     "text": [
      "TP =  1 \n",
      "FP =  0 \n",
      "TN =  5 \n",
      "FN =  4\n",
      "Значений = 1 в y:  5\n",
      "Значений = 0 в y:  5\n"
     ]
    }
   ],
   "source": [
    "print('TP = ',true_1_values,'\\nFP = ',false_1_values,'\\nTN = ',true_0_values,'\\nFN = ',false_0_values)\n",
    "print('Значений = 1 в y: ',len(y[y==1]))\n",
    "print('Значений = 0 в y: ',len(y[y==0]))"
   ]
  },
  {
   "cell_type": "markdown",
   "metadata": {},
   "source": [
    "### Модель, вероятно, \"недоучилась\": accuracy недостаточно высок, precision и recall - тоже; f1-score всего 1/3, что говорит о низком качестве модели (показывает плохие результаты на уже известных данных). Вероятно, модель покажет плохие результаты и на новых, неизвестных ей данных."
   ]
  },
  {
   "cell_type": "markdown",
   "metadata": {},
   "source": [
    "## Д/з"
   ]
  },
  {
   "cell_type": "markdown",
   "metadata": {},
   "source": [
    "1*. Измените функцию calc_logloss так, чтобы нули по возможности не попадали в np.log.\n",
    "\n",
    "2. Подберите аргументы функции eval_model для логистической регрессии таким образом, чтобы log loss был минимальным.\n",
    "3. Создайте функцию calc_pred_proba, возвращающую предсказанную вероятность класса 1 (на вход подаются W, который уже посчитан функцией eval_model и X, на выходе - массив y_pred_proba).\n",
    "4. Создайте функцию calc_pred, возвращающую предсказанный класс (на вход подаются W, который уже посчитан функцией eval_model и X, на выходе - массив y_pred).\n",
    "\n",
    "5*. Посчитайте Accuracy, матрицу ошибок, точность и полноту, а также F1 score.\n",
    "6. Могла ли модель переобучиться? Почему?"
   ]
  },
  {
   "cell_type": "code",
   "execution_count": null,
   "metadata": {},
   "outputs": [],
   "source": []
  }
 ],
 "metadata": {
  "colab": {
   "collapsed_sections": [],
   "name": "Lesson3.ipynb",
   "provenance": []
  },
  "kernelspec": {
   "display_name": "Python 3",
   "language": "python",
   "name": "python3"
  },
  "language_info": {
   "codemirror_mode": {
    "name": "ipython",
    "version": 3
   },
   "file_extension": ".py",
   "mimetype": "text/x-python",
   "name": "python",
   "nbconvert_exporter": "python",
   "pygments_lexer": "ipython3",
   "version": "3.7.6"
  }
 },
 "nbformat": 4,
 "nbformat_minor": 4
}
