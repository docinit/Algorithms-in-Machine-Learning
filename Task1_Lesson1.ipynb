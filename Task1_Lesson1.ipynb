{
 "cells": [
  {
   "cell_type": "markdown",
   "metadata": {},
   "source": [
    "## Урок 1. Алгоритм линейной регрессии. Градиентный спуск"
   ]
  },
  {
   "cell_type": "code",
   "execution_count": 1,
   "metadata": {
    "colab": {},
    "colab_type": "code",
    "id": "ak8b3KV45kVW"
   },
   "outputs": [],
   "source": [
    "import numpy as np\n",
    "import matplotlib.pyplot as plt"
   ]
  },
  {
   "cell_type": "markdown",
   "metadata": {},
   "source": [
    "__Задача:__ предсказание баллов ЕГЭ ученика в зависимости от кол-ва лет стажа его репетитора"
   ]
  },
  {
   "cell_type": "code",
   "execution_count": 2,
   "metadata": {
    "colab": {},
    "colab_type": "code",
    "id": "i77tZbAd5plB"
   },
   "outputs": [
    {
     "data": {
      "text/plain": [
       "array([[ 1,  1,  1,  1,  1,  1,  1,  1,  1,  1],\n",
       "       [ 1,  1,  2,  5,  3,  0,  5, 10,  1,  2]])"
      ]
     },
     "execution_count": 2,
     "metadata": {},
     "output_type": "execute_result"
    }
   ],
   "source": [
    "X = np.array([[1, 1, 1, 1, 1, 1, 1, 1, 1, 1],\n",
    "              [1, 1, 2, 5, 3, 0, 5, 10, 1, 2]])\n",
    "X"
   ]
  },
  {
   "cell_type": "code",
   "execution_count": 3,
   "metadata": {},
   "outputs": [
    {
     "data": {
      "text/plain": [
       "array([[ 1,  1],\n",
       "       [ 1,  1],\n",
       "       [ 1,  2],\n",
       "       [ 1,  5],\n",
       "       [ 1,  3],\n",
       "       [ 1,  0],\n",
       "       [ 1,  5],\n",
       "       [ 1, 10],\n",
       "       [ 1,  1],\n",
       "       [ 1,  2]])"
      ]
     },
     "execution_count": 3,
     "metadata": {},
     "output_type": "execute_result"
    }
   ],
   "source": [
    "X.T"
   ]
  },
  {
   "cell_type": "code",
   "execution_count": 4,
   "metadata": {
    "colab": {},
    "colab_type": "code",
    "id": "VsNrKi1Q6Wmh"
   },
   "outputs": [],
   "source": [
    "y = [45, 55, 50, 55, 60, 35, 75, 80, 50, 60]"
   ]
  },
  {
   "cell_type": "code",
   "execution_count": 5,
   "metadata": {
    "colab": {},
    "colab_type": "code",
    "id": "JTSC2cFnCd8T"
   },
   "outputs": [],
   "source": [
    "def calc_mae(y, y_pred):\n",
    "    err = np.mean(np.abs(y - y_pred))\n",
    "    return err\n",
    "\n",
    "def calc_mse(y, y_pred):\n",
    "    err = np.mean((y - y_pred)**2) # <=> 1/n * np.sum((y_pred - y)**2)\n",
    "    return err"
   ]
  },
  {
   "cell_type": "markdown",
   "metadata": {},
   "source": [
    "### Д/З"
   ]
  },
  {
   "cell_type": "markdown",
   "metadata": {
    "colab_type": "text",
    "id": "huXrhXQsZTMt"
   },
   "source": [
    "1. Подберите скорость обучения (alpha) и количество итераций"
   ]
  },
  {
   "cell_type": "code",
   "execution_count": 6,
   "metadata": {
    "colab": {
     "base_uri": "https://localhost:8080/",
     "height": 185
    },
    "colab_type": "code",
    "id": "IDB22MQKMYaJ",
    "outputId": "4c03219e-a57c-4583-f439-6699fd0619bb"
   },
   "outputs": [
    {
     "name": "stdout",
     "output_type": "stream",
     "text": [
      "Number of objects = 10        \n",
      "Initial weights = [1.  0.5] \n",
      "\n",
      "0.01 44.525885301240166\n",
      "Потребовалось 400 итераций\n",
      "Выбрано значение альфа 0.01\n",
      "Найдены коэффициенты: [43.97488723  4.00972181].\n",
      "MSE: 44.525885301240166.\n",
      "CPU times: user 235 ms, sys: 7.88 ms, total: 243 ms\n",
      "Wall time: 235 ms\n"
     ]
    }
   ],
   "source": [
    "%%time\n",
    "n = X.shape[1]\n",
    "W = np.array([1, 0.5])\n",
    "W_old  = np.array([0,0])\n",
    "print(f'Number of objects = {n} \\\n",
    "       \\nInitial weights = {W} \\n')\n",
    "mse = np.inf\n",
    "w_new = np.array([])\n",
    "# выбранное значение alpha_checked сначала приравняем к бесконечности (т.к. alpha_checked еще не определено)\n",
    "alpha_checked = np.inf\n",
    "# значение alpha подбирается из короткого списка возможных значений\n",
    "# в списке numpy массиве W будут храниться значения, которые будут проверяться на mse\n",
    "# в списке numpy массиве W_old будут храниться значения, которые уже проверены на mse; если mse удовлетворит критерию в коде\n",
    "# то W_old сохранится в w_new, alpha - в alpha_checked\n",
    "for alpha in [1e-2,1e-3,1e-4,1e-5,1e-6,1e-7,1e-8,1e-9,1e-10,1e-11]:\n",
    "    W = np.array([1, 0.5])\n",
    "    W_old  = np.array([0,0])\n",
    "    i=1\n",
    "    while (W[0]-W_old[0]>alpha) | (W[1]-W_old[1]>alpha):\n",
    "        y_pred = np.dot(W, X)\n",
    "        err = calc_mse(y, y_pred)\n",
    "        W_old = W.copy()        \n",
    "#         это будет использовано в следующем цикле для вычисления y_pred и err; для текущих W err уже вычислена\n",
    "        for k in range(W.shape[0]):\n",
    "            W[k] -= alpha * (1/n * 2 * np.sum(X[k] * (y_pred - y)))\n",
    "#         if i % 10 == 0:\n",
    "#             alpha /= 1.1\n",
    "        i+=1\n",
    "    if err<mse:\n",
    "        mse = err\n",
    "        w_new = W_old\n",
    "        alpha_checked = alpha#/(1/1.1)\n",
    "    else:\n",
    "        break\n",
    "    print(alpha_checked, mse)\n",
    "    i_prev = i-1\n",
    "print(f'Потребовалось {i_prev} итераций')\n",
    "print(f'Выбрано значение альфа {alpha_checked}')\n",
    "print(f'Найдены коэффициенты: {w_new}.')\n",
    "print(f'MSE: {mse}.')"
   ]
  },
  {
   "cell_type": "code",
   "execution_count": 7,
   "metadata": {},
   "outputs": [
    {
     "data": {
      "image/png": "[encoded data removed]",
      "text/plain": [
       "<Figure size 432x288 with 1 Axes>"
      ]
     },
     "metadata": {
      "needs_background": "light"
     },
     "output_type": "display_data"
    },
    {
     "data": {
      "image/png": "[encoded data removed]",
      "text/plain": [
       "<Figure size 432x288 with 1 Axes>"
      ]
     },
     "metadata": {
      "needs_background": "light"
     },
     "output_type": "display_data"
    }
   ],
   "source": [
    "plt.scatter(X.T[:,0],y);\n",
    "plt.scatter(X.T[:,1],y);\n",
    "plt.title('Real')\n",
    "plt.ylim(25,100)\n",
    "plt.show()\n",
    "plt.scatter(X.T[:,0],y_pred);\n",
    "plt.scatter(X.T[:,1],y_pred);\n",
    "plt.ylim(25,100)\n",
    "plt.title('Test');"
   ]
  },
  {
   "cell_type": "markdown",
   "metadata": {
    "colab_type": "text",
    "id": "5Qu1o4JhZYwI"
   },
   "source": [
    "*2. В этом коде мы избавляемся от итераций по весам, но тут есть ошибка, исправьте ее"
   ]
  },
  {
   "cell_type": "code",
   "execution_count": 8,
   "metadata": {
    "colab": {
     "base_uri": "https://localhost:8080/",
     "height": 185
    },
    "colab_type": "code",
    "id": "WZZzDCQLY4pA",
    "outputId": "28f58ade-72f2-4381-809d-2417752d56e4"
   },
   "outputs": [
    {
     "name": "stdout",
     "output_type": "stream",
     "text": [
      "Number of objects = 10        \n",
      "Learning rate = 0.01        \n",
      "Initial weights = [1.  0.5] \n",
      "\n",
      "Iteration #10: W_new = [ 6.27409912 10.61491815], MSE = 752.0184356756685\n",
      "Iteration #20: W_new = [ 9.70637726 10.22071623], MSE = 632.7150870310963\n",
      "Iteration #30: W_new = [12.80215106  9.66237609], MSE = 534.1424546924876\n",
      "Iteration #40: W_new = [15.62642367  9.15027805], MSE = 452.07375384905697\n",
      "Iteration #50: W_new = [18.203436    8.68297713], MSE = 383.7456343612789\n",
      "Iteration #60: W_new = [20.55484099  8.2565861 ], MSE = 326.857541015558\n",
      "Iteration #70: W_new = [22.70038977  7.86752391], MSE = 279.4940955004128\n",
      "Iteration #80: W_new = [24.65810422  7.51252258], MSE = 240.06060706491297\n",
      "Iteration #90: W_new = [26.4444285   7.18860021], MSE = 207.22938050865514\n",
      "Iteration #100: W_new = [28.07436714  6.89303597], MSE = 179.89501370640292\n",
      "Iteration #110: W_new = [29.56161109  6.62334721], MSE = 157.13717956944907\n",
      "Iteration #120: W_new = [30.91865271  6.37726863], MSE = 138.189639340991\n",
      "Iteration #130: W_new = [32.15689069  6.15273327], MSE = 122.41444392702674\n",
      "Iteration #140: W_new = [33.28672582  5.94785509], MSE = 109.28045464144161\n",
      "Iteration #150: W_new = [34.31764835  5.76091318], MSE = 98.34546017530847\n",
      "Iteration #160: W_new = [35.25831768  5.5903373 ], MSE = 89.2412876825235\n",
      "Iteration #170: W_new = [36.11663513  5.43469466], MSE = 81.66140668348939\n",
      "Iteration #180: W_new = [36.89981028  5.29267793], MSE = 75.35060841983059\n",
      "Iteration #190: W_new = [37.61442153  5.16309419], MSE = 70.09641317195337\n",
      "Iteration #200: W_new = [38.26647139  5.04485501], MSE = 65.72191623045094\n",
      "Iteration #210: W_new = [38.86143686  4.93696719], MSE = 62.07983165071513\n",
      "Iteration #220: W_new = [39.40431545  4.83852453], MSE = 59.0475332485603\n",
      "Iteration #230: W_new = [39.89966717  4.74870013], MSE = 56.52292587099687\n",
      "Iteration #240: W_new = [40.35165279  4.66673951], MSE = 54.421007931021585\n",
      "Iteration #250: W_new = [40.76406887  4.59195421], MSE = 52.671009469615726\n",
      "Iteration #260: W_new = [41.14037954  4.52371607], MSE = 51.21400938570245\n",
      "Iteration #270: W_new = [41.4837457   4.46145191], MSE = 50.000951608029894\n",
      "Iteration #280: W_new = [41.7970515   4.40463874], MSE = 48.99099341501479\n",
      "Iteration #290: W_new = [42.08292863  4.35279933], MSE = 48.1501302917468\n",
      "Iteration #300: W_new = [42.34377833  4.30549826], MSE = 47.45005102414739\n",
      "Iteration #310: W_new = [42.58179168  4.26233821], MSE = 46.867184482185465\n",
      "Iteration #320: W_new = [42.7989679   4.22295665], MSE = 46.38190599807382\n",
      "Iteration #330: W_new = [42.9971312   4.18702279], MSE = 45.97787661881138\n",
      "Iteration #340: W_new = [43.17794608  4.1542348 ], MSE = 45.64149298621326\n",
      "Iteration #350: W_new = [43.34293133  4.12431726], MSE = 45.36142932231222\n",
      "Iteration #360: W_new = [43.49347278  4.09701889], MSE = 45.12825609913287\n",
      "Iteration #370: W_new = [43.63083492  4.07211039], MSE = 44.934122553743514\n",
      "Iteration #380: W_new = [43.75617154  4.04938252], MSE = 44.77249235911156\n",
      "Iteration #390: W_new = [43.87053544  4.02864439], MSE = 44.63792355100384\n",
      "Iteration #400: W_new = [43.97488723  4.00972181], MSE = 44.525885301240166\n",
      "CPU times: user 40.1 ms, sys: 7.1 ms, total: 47.2 ms\n",
      "Wall time: 43 ms\n"
     ]
    },
    {
     "data": {
      "text/plain": [
       "array([43.98480618,  4.00792316])"
      ]
     },
     "execution_count": 8,
     "metadata": {},
     "output_type": "execute_result"
    }
   ],
   "source": [
    "%%time\n",
    "n = X.shape[1]\n",
    "alpha = 1e-2\n",
    "W = np.array([1, 0.5])\n",
    "W_pred = np.array([0,0])\n",
    "print(f'Number of objects = {n} \\\n",
    "       \\nLearning rate = {alpha} \\\n",
    "       \\nInitial weights = {W} \\n')\n",
    "\n",
    "i=1\n",
    "while (W[0]-W_pred[0]>alpha) | (W[1]-W_pred[1]>alpha):\n",
    "    y_pred = np.dot(W, X)\n",
    "    err = calc_mse(y, y_pred)\n",
    "#     for k in range(W.shape[0]):\n",
    "#         W[k] -= alpha * (1/n * 2 * np.sum(X[k] * (y_pred - y)))\n",
    "    W_pred = W.copy()\n",
    "    W -= alpha * (1/n * 2 * np.sum(X * (y_pred - y),axis=1))\n",
    "    if i % 10 == 0:\n",
    "        print(f'Iteration #{i}: W_new = {W_pred}, MSE = {err}')\n",
    "    i+=1\n",
    "W"
   ]
  },
  {
   "cell_type": "code",
   "execution_count": 9,
   "metadata": {},
   "outputs": [
    {
     "data": {
      "image/png": "[encoded data removed]",
      "text/plain": [
       "<Figure size 432x288 with 1 Axes>"
      ]
     },
     "metadata": {
      "needs_background": "light"
     },
     "output_type": "display_data"
    },
    {
     "data": {
      "image/png": "[encoded data removed]",
      "text/plain": [
       "<Figure size 432x288 with 1 Axes>"
      ]
     },
     "metadata": {
      "needs_background": "light"
     },
     "output_type": "display_data"
    }
   ],
   "source": [
    "plt.scatter(X.T[:,0],y);\n",
    "plt.scatter(X.T[:,1],y);\n",
    "plt.title('Real')\n",
    "plt.ylim(25,100)\n",
    "plt.show()\n",
    "plt.scatter(X.T[:,0],y_pred);\n",
    "plt.scatter(X.T[:,1],y_pred);\n",
    "plt.ylim(25,100)\n",
    "plt.title('Test');"
   ]
  },
  {
   "cell_type": "code",
   "execution_count": 10,
   "metadata": {},
   "outputs": [
    {
     "name": "stdout",
     "output_type": "stream",
     "text": [
      "Number of objects = 10        \n",
      "Initial weights = [1.  0.5] \n",
      "\n",
      "0.01 44.525885301240166\n",
      "Потребовалось 400 итераций\n",
      "Выбрано значение альфа 0.01\n",
      "Найдены коэффициенты: [43.97488723  4.00972181].\n",
      "MSE: 44.525885301240166.\n",
      "CPU times: user 193 ms, sys: 2.02 ms, total: 195 ms\n",
      "Wall time: 193 ms\n"
     ]
    }
   ],
   "source": [
    "%%time\n",
    "n = X.shape[1]\n",
    "# alpha = 1e-2\n",
    "W = np.array([1, 0.5])\n",
    "W_old  = np.array([0,0])\n",
    "print(f'Number of objects = {n} \\\n",
    "       \\nInitial weights = {W} \\n')\n",
    "mse = np.inf\n",
    "w_new = np.array([])\n",
    "# выбранное значение alpha_checked сначала приравняем к бесконечности (т.к. alpha_checked еще не определено)\n",
    "alpha_checked = np.inf\n",
    "# значение alpha подбирается из короткого списка возможных значений\n",
    "# в списке numpy массиве W будут храниться значения, которые будут проверяться на mse\n",
    "# в списке numpy массиве W_old будут храниться значения, которые уже проверены на mse; если mse удовлетворит критерию в коде\n",
    "# то W_old сохранится в w_new, alpha - в alpha_checked\n",
    "for alpha in [1e-2,1e-3,1e-4,1e-5,1e-6,1e-7,1e-8,1e-9,1e-10,1e-11]:\n",
    "    W = np.array([1, 0.5])\n",
    "    W_old  = np.array([0,0])\n",
    "    i=1\n",
    "    while (W[0]-W_old[0]>alpha) | (W[1]-W_old[1]>alpha):\n",
    "        y_pred = np.dot(W, X)\n",
    "        err = calc_mse(y, y_pred)\n",
    "        W_old = W.copy()        \n",
    "#         это будет использовано в следующем цикле для вычисления y_pred и err; для текущих W err уже вычислена\n",
    "        W -= alpha * (1/n * 2 * np.sum(X * (y_pred - y),axis=1))\n",
    "#         if i % 10 == 0:\n",
    "#             alpha /= 1.1\n",
    "        i+=1\n",
    "    if err<mse:\n",
    "        mse = err\n",
    "        w_new = W_old\n",
    "        alpha_checked = alpha#/(1/1.1)\n",
    "    else:\n",
    "        break\n",
    "    print(alpha_checked, mse)\n",
    "    i_prev = i-1\n",
    "print(f'Потребовалось {i_prev} итераций')\n",
    "print(f'Выбрано значение альфа {alpha_checked}')\n",
    "print(f'Найдены коэффициенты: {w_new}.')\n",
    "print(f'MSE: {mse}.')"
   ]
  },
  {
   "cell_type": "code",
   "execution_count": 11,
   "metadata": {},
   "outputs": [
    {
     "data": {
      "image/png": "[encoded data removed]",
      "text/plain": [
       "<Figure size 432x288 with 1 Axes>"
      ]
     },
     "metadata": {
      "needs_background": "light"
     },
     "output_type": "display_data"
    },
    {
     "data": {
      "image/png": "[encoded data removed]",
      "text/plain": [
       "<Figure size 432x288 with 1 Axes>"
      ]
     },
     "metadata": {
      "needs_background": "light"
     },
     "output_type": "display_data"
    }
   ],
   "source": [
    "plt.scatter(X.T[:,0],y);\n",
    "plt.scatter(X.T[:,1],y);\n",
    "plt.title('Real')\n",
    "plt.ylim(25,100)\n",
    "plt.show()\n",
    "plt.scatter(X.T[:,0],y_pred);\n",
    "plt.scatter(X.T[:,1],y_pred);\n",
    "plt.ylim(25,100)\n",
    "plt.title('Test');"
   ]
  },
  {
   "cell_type": "code",
   "execution_count": null,
   "metadata": {},
   "outputs": [],
   "source": []
  }
 ],
 "metadata": {
  "colab": {
   "collapsed_sections": [],
   "name": "Lesson1.ipynb",
   "provenance": []
  },
  "kernelspec": {
   "display_name": "Python 3",
   "language": "python",
   "name": "python3"
  },
  "language_info": {
   "codemirror_mode": {
    "name": "ipython",
    "version": 3
   },
   "file_extension": ".py",
   "mimetype": "text/x-python",
   "name": "python",
   "nbconvert_exporter": "python",
   "pygments_lexer": "ipython3",
   "version": "3.7.6"
  }
 },
 "nbformat": 4,
 "nbformat_minor": 4
}
