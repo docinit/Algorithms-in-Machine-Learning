{
 "cells": [
  {
   "cell_type": "markdown",
   "metadata": {},
   "source": [
    "## Урок 1. Алгоритм линейной регрессии. Градиентный спуск"
   ]
  },
  {
   "cell_type": "code",
   "execution_count": 1,
   "metadata": {
    "colab": {},
    "colab_type": "code",
    "id": "ak8b3KV45kVW"
   },
   "outputs": [],
   "source": [
    "import numpy as np\n",
    "import matplotlib.pyplot as plt"
   ]
  },
  {
   "cell_type": "markdown",
   "metadata": {},
   "source": [
    "__Задача:__ предсказание баллов ЕГЭ ученика в зависимости от кол-ва лет стажа его репетитора"
   ]
  },
  {
   "cell_type": "code",
   "execution_count": 2,
   "metadata": {
    "colab": {},
    "colab_type": "code",
    "id": "i77tZbAd5plB"
   },
   "outputs": [
    {
     "data": {
      "text/plain": [
       "array([[ 1,  1,  1,  1,  1,  1,  1,  1,  1,  1],\n",
       "       [ 1,  1,  2,  5,  3,  0,  5, 10,  1,  2]])"
      ]
     },
     "execution_count": 2,
     "metadata": {},
     "output_type": "execute_result"
    }
   ],
   "source": [
    "X = np.array([[1, 1, 1, 1, 1, 1, 1, 1, 1, 1],\n",
    "              [1, 1, 2, 5, 3, 0, 5, 10, 1, 2]])\n",
    "X"
   ]
  },
  {
   "cell_type": "code",
   "execution_count": 3,
   "metadata": {},
   "outputs": [
    {
     "data": {
      "text/plain": [
       "array([[ 1,  1],\n",
       "       [ 1,  1],\n",
       "       [ 1,  2],\n",
       "       [ 1,  5],\n",
       "       [ 1,  3],\n",
       "       [ 1,  0],\n",
       "       [ 1,  5],\n",
       "       [ 1, 10],\n",
       "       [ 1,  1],\n",
       "       [ 1,  2]])"
      ]
     },
     "execution_count": 3,
     "metadata": {},
     "output_type": "execute_result"
    }
   ],
   "source": [
    "X.T"
   ]
  },
  {
   "cell_type": "code",
   "execution_count": 4,
   "metadata": {
    "colab": {},
    "colab_type": "code",
    "id": "VsNrKi1Q6Wmh"
   },
   "outputs": [],
   "source": [
    "y = [45, 55, 50, 55, 60, 35, 75, 80, 50, 60]"
   ]
  },
  {
   "cell_type": "code",
   "execution_count": 5,
   "metadata": {
    "colab": {},
    "colab_type": "code",
    "id": "JTSC2cFnCd8T"
   },
   "outputs": [],
   "source": [
    "def calc_mae(y, y_pred):\n",
    "    err = np.mean(np.abs(y - y_pred))\n",
    "    return err\n",
    "\n",
    "def calc_mse(y, y_pred):\n",
    "    err = np.mean((y - y_pred)**2) # <=> 1/n * np.sum((y_pred - y)**2)\n",
    "    return err"
   ]
  },
  {
   "cell_type": "markdown",
   "metadata": {},
   "source": [
    "### Д/З"
   ]
  },
  {
   "cell_type": "markdown",
   "metadata": {
    "colab_type": "text",
    "id": "huXrhXQsZTMt"
   },
   "source": [
    "1. Подберите скорость обучения (alpha) и количество итераций"
   ]
  },
  {
   "cell_type": "code",
   "execution_count": 77,
   "metadata": {
    "colab": {
     "base_uri": "https://localhost:8080/",
     "height": 185
    },
    "colab_type": "code",
    "id": "IDB22MQKMYaJ",
    "outputId": "4c03219e-a57c-4583-f439-6699fd0619bb"
   },
   "outputs": [
    {
     "name": "stdout",
     "output_type": "stream",
     "text": [
      "Number of objects = 10        \n",
      "Learning rate = 1.2361118984490902e-16        \n",
      "Initial weights = [1.  0.5] \n",
      "\n",
      "0.01 44.525885301240166\n",
      "Потребовалось 3999 итераций\n",
      "Выбрано значение альфа 0.01\n",
      "Найдены коэффициенты: [43.97488723  4.00972181].\n",
      "MSE: 44.525885301240166.\n",
      "CPU times: user 259 ms, sys: 5 ms, total: 264 ms\n",
      "Wall time: 260 ms\n"
     ]
    }
   ],
   "source": [
    "%%time\n",
    "n = X.shape[1]\n",
    "# alpha = 1e-2\n",
    "W = np.array([1, 0.5])\n",
    "W_old  = np.array([0,0])\n",
    "print(f'Number of objects = {n} \\\n",
    "       \\nLearning rate = {alpha} \\\n",
    "       \\nInitial weights = {W} \\n')\n",
    "mse = np.inf\n",
    "w_new = np.array([])\n",
    "# выбранное значение alpha_checked сначала приравняем к бесконечности (т.к. alpha_checked еще не определено)\n",
    "alpha_checked = np.inf\n",
    "# значение alpha подбирается из короткого списка возможных значений\n",
    "# в списке numpy массиве W будут храниться значения, которые будут проверяться на mse\n",
    "# в списке numpy массиве W_old будут храниться значения, которые уже проверены на mse; если mse удовлетворит критерию в коде\n",
    "# то W_old сохранится в w_new, alpha - в alpha_checked\n",
    "for alpha in [1e-2,1e-3,1e-4,1e-5,1e-6,1e-7,1e-8,1e-9,1e-10,1e-11]:\n",
    "    W = np.array([1, 0.5])\n",
    "    W_old  = np.array([0,0])\n",
    "    i=1\n",
    "    while (W[0]-W_old[0]>alpha) | (W[1]-W_old[1]>alpha):\n",
    "        y_pred = np.dot(W, X)\n",
    "        err = calc_mse(y, y_pred)\n",
    "        W_old = W.copy()        \n",
    "#         это будет использовано в следующем цикле для вычисления y_pred и err; для текущих W err уже вычислена\n",
    "        for k in range(W.shape[0]):\n",
    "            W[k] -= alpha * (1/n * 2 * np.sum(X[k] * (y_pred - y)))\n",
    "#         if i % 10 == 0:\n",
    "#             alpha /= 1.1\n",
    "        i+=1\n",
    "    if err<mse:\n",
    "        mse = err\n",
    "        w_new = W_old\n",
    "        alpha_checked = alpha#/(1/1.1)\n",
    "    else:\n",
    "        break\n",
    "    print(alpha_checked, mse)\n",
    "print(f'Потребовалось {i-1} итераций')\n",
    "print(f'Выбрано значение альфа {alpha_checked}')\n",
    "print(f'Найдены коэффициенты: {w_new}.')\n",
    "print(f'MSE: {mse}.')"
   ]
  },
  {
   "cell_type": "code",
   "execution_count": 78,
   "metadata": {},
   "outputs": [
    {
     "data": {
      "image/png": "[encoded data removed]",
      "text/plain": [
       "<Figure size 432x288 with 1 Axes>"
      ]
     },
     "metadata": {
      "needs_background": "light"
     },
     "output_type": "display_data"
    },
    {
     "data": {
      "image/png": "[encoded data removed]",
      "text/plain": [
       "<Figure size 432x288 with 1 Axes>"
      ]
     },
     "metadata": {
      "needs_background": "light"
     },
     "output_type": "display_data"
    }
   ],
   "source": [
    "plt.scatter(X.T[:,0],y);\n",
    "plt.scatter(X.T[:,1],y);\n",
    "plt.title('Real')\n",
    "plt.ylim(25,100)\n",
    "plt.show()\n",
    "plt.scatter(X.T[:,0],y_pred);\n",
    "plt.scatter(X.T[:,1],y_pred);\n",
    "plt.ylim(25,100)\n",
    "plt.title('Test');"
   ]
  },
  {
   "cell_type": "markdown",
   "metadata": {
    "colab_type": "text",
    "id": "5Qu1o4JhZYwI"
   },
   "source": [
    "*2. В этом коде мы избавляемся от итераций по весам, но тут есть ошибка, исправьте ее"
   ]
  },
  {
   "cell_type": "code",
   "execution_count": 79,
   "metadata": {
    "colab": {
     "base_uri": "https://localhost:8080/",
     "height": 185
    },
    "colab_type": "code",
    "id": "WZZzDCQLY4pA",
    "outputId": "28f58ade-72f2-4381-809d-2417752d56e4"
   },
   "outputs": [
    {
     "name": "stdout",
     "output_type": "stream",
     "text": [
      "Number of objects = 10        \n",
      "Learning rate = 0.01        \n",
      "Initial weights = [1.  0.5] \n",
      "\n",
      "Iteration #10: W_new = [ 6.27409912 10.61491815], MSE = (752.0184356756685, 2)\n",
      "Iteration #20: W_new = [ 9.4389504  10.26755155], MSE = (641.6456803977987, 2)\n",
      "Iteration #30: W_new = [12.06050824  9.79675466], MSE = (556.9384375591593, 2)\n",
      "Iteration #40: W_new = [14.27459742  9.39540476], MSE = (490.41816270597144, 2)\n",
      "Iteration #50: W_new = [16.1576422   9.05394988], MSE = (437.47692003273295, 2)\n",
      "Iteration #60: W_new = [17.76892015  8.76176985], MSE = (394.8281248326431, 2)\n",
      "Iteration #70: W_new = [19.15528901  8.51037327], MSE = (360.0897927609196, 2)\n",
      "Iteration #80: W_new = [20.35414242  8.29297969], MSE = (331.50978881178986, 2)\n",
      "Iteration #90: W_new = [21.39557972  8.10413109], MSE = (307.7813762107256, 2)\n",
      "Iteration #100: W_new = [22.30402559  7.93939844], MSE = (287.91737475885424, 2)\n",
      "Iteration #110: W_new = [23.09945118  7.79516027], MSE = (271.1629997668645, 2)\n",
      "Iteration #120: W_new = [23.79830356  7.66843417], MSE = (256.93463183895363, 2)\n",
      "Iteration #130: W_new = [24.41421909  7.55674738], MSE = (244.77622786864603, 2)\n",
      "Iteration #140: W_new = [24.95857578  7.45803669], MSE = (234.32790088100592, 2)\n",
      "Iteration #150: W_new = [25.44092412  7.37057026], MSE = (225.3030040016844, 2)\n",
      "Iteration #160: W_new = [25.86932585  7.29288621], MSE = (217.47123094656672, 2)\n",
      "Iteration #170: W_new = [26.25062207  7.22374402], MSE = (210.64602273108454, 2)\n",
      "Iteration #180: W_new = [26.59064695  7.16208575], MSE = (204.67509042217742, 2)\n",
      "Iteration #190: W_new = [26.89439927  7.10700495], MSE = (199.4332161758751, 2)\n",
      "Iteration #200: W_new = [27.16618077  7.05772156], MSE = (194.81673644441653, 2)\n",
      "Iteration #210: W_new = [27.40970862  7.01356154], MSE = (190.73927879825183, 2)\n",
      "Iteration #220: W_new = [27.62820719  6.9739402 ], MSE = (187.12844125093554, 2)\n",
      "Iteration #230: W_new = [27.82448344  6.93834852], MSE = (183.9231861316221, 2)\n",
      "Iteration #240: W_new = [28.00098919  6.90634193], MSE = (181.07178000287044, 2)\n",
      "Iteration #250: W_new = [28.15987275  6.87753084], MSE = (178.5301540212213, 2)\n",
      "Iteration #260: W_new = [28.30302198  6.85157294], MSE = (176.26059036658063, 2)\n",
      "Iteration #270: W_new = [28.43210037  6.82816656], MSE = (174.23066329032847, 2)\n",
      "Iteration #280: W_new = [28.54857739  6.80704525], MSE = (172.41238029484228, 2)\n",
      "Iteration #290: W_new = [28.65375417  6.78797306], MSE = (170.78148160506322, 2)\n",
      "Iteration #300: W_new = [28.74878526  6.77074064], MSE = (169.31686559241683, 2)\n",
      "Iteration #310: W_new = [28.83469723  6.75516183], MSE = (168.00011499634326, 2)\n",
      "Iteration #320: W_new = [28.91240448  6.74107082], MSE = (166.8151042592342, 2)\n",
      "Iteration #330: W_new = [28.98272296  6.72831965], MSE = (165.7476724823887, 2)\n",
      "Iteration #340: W_new = [29.04638186  6.71677608], MSE = (164.78534974222637, 2)\n",
      "Iteration #350: W_new = [29.10403383  6.70632179], MSE = (163.91712701194933, 2)\n",
      "Iteration #360: W_new = [29.15626376  6.6968507 ], MSE = (163.13326188795799, 2)\n",
      "Iteration #370: W_new = [29.20359645  6.68826764], MSE = (162.42511385230503, 2)\n",
      "Iteration #380: W_new = [29.24650335  6.68048714], MSE = (161.78500400968693, 2)\n",
      "Iteration #390: W_new = [29.2854084   6.67343231], MSE = (161.20609519347028, 2)\n",
      "Iteration #400: W_new = [29.32069319  6.66703396], MSE = (160.68228909590826, 2)\n",
      "Iteration #410: W_new = [29.35270145  6.66122975], MSE = (160.20813768568402, 2)\n",
      "Iteration #420: W_new = [29.38174313  6.65596349], MSE = (159.77876666403102, 2)\n",
      "Iteration #430: W_new = [29.40809784  6.65118447], MSE = (159.38980910419696, 2)\n",
      "Iteration #440: W_new = [29.43201804  6.64684691], MSE = (159.03734773759217, 2)\n",
      "Iteration #450: W_new = [29.45373181  6.64290945], MSE = (158.71786460889467, 2)\n",
      "Iteration #460: W_new = [29.4734453   6.63933471], MSE = (158.42819703363222, 2)\n",
      "Iteration #470: W_new = [29.49134495  6.63608889], MSE = (158.165498964787, 2)\n",
      "Iteration #480: W_new = [29.50759943  6.63314139], MSE = (157.92720701718474, 2)\n",
      "Iteration #490: W_new = [29.52236144  6.63046453], MSE = (157.7110105157459, 2)\n",
      "Iteration #500: W_new = [29.53576923  6.62803323], MSE = (157.51482503080695, 2)\n",
      "Iteration #510: W_new = [29.54794805  6.62582479], MSE = (157.3367689443956, 2)\n",
      "Iteration #520: W_new = [29.55901137  6.62381863], MSE = (157.1751426585981, 2)\n",
      "Iteration #530: W_new = [29.56906206  6.62199609], MSE = (157.02841011339487, 2)\n",
      "Iteration #540: W_new = [29.57819336  6.62034027], MSE = (156.89518232853905, 2)\n",
      "Iteration #550: W_new = [29.58648986  6.61883583], MSE = (156.77420272377776, 2)\n",
      "Iteration #560: W_new = [29.59402825  6.61746886], MSE = (156.66433400526918, 2)\n",
      "Iteration #570: W_new = [29.60087814  6.61622673], MSE = (156.56454643447688, 2)\n",
      "Iteration #580: W_new = [29.60710266  6.61509801], MSE = (156.47390731998087, 2)\n",
      "Iteration #590: W_new = [29.61275913  6.6140723 ], MSE = (156.39157159324583, 2)\n",
      "Iteration #600: W_new = [29.61789957  6.61314016], MSE = (156.3167733469988, 2)\n",
      "Iteration #610: W_new = [29.62257121  6.61229303], MSE = (156.2488182299769, 2)\n",
      "Iteration #620: W_new = [29.62681692  6.61152314], MSE = (156.18707660480726, 2)\n",
      "Iteration #630: W_new = [29.63067564  6.61082342], MSE = (156.1309773869893, 2)\n",
      "Iteration #640: W_new = [29.63418272  6.61018746], MSE = (156.08000249265623, 2)\n",
      "Iteration #650: W_new = [29.63737029  6.60960945], MSE = (156.03368183121248, 2)\n",
      "Iteration #660: W_new = [29.6402675   6.60908408], MSE = (155.99158878625963, 2)\n",
      "Iteration #670: W_new = [29.64290085  6.60860656], MSE = (155.95333613462202, 2)\n",
      "Iteration #680: W_new = [29.64529442  6.60817253], MSE = (155.91857235886232, 2)\n",
      "Iteration #690: W_new = [29.64747006  6.60777801], MSE = (155.88697831357499, 2)\n",
      "Iteration #700: W_new = [29.64944766  6.6074194 ], MSE = (155.85826421005055, 2)\n",
      "Iteration #710: W_new = [29.65124524  6.60709344], MSE = (155.83216688769144, 2)\n",
      "Iteration #720: W_new = [29.65287923  6.60679714], MSE = (155.80844734390323, 2)\n",
      "Iteration #730: W_new = [29.65436453  6.6065278 ], MSE = (155.78688849714416, 2)\n",
      "Iteration #740: W_new = [29.65571467  6.60628297], MSE = (155.76729316043475, 2)\n",
      "Iteration #750: W_new = [29.65694197  6.60606042], MSE = (155.7494822049564, 2)\n",
      "Iteration #760: W_new = [29.65805761  6.60585812], MSE = (155.73329289543474, 2)\n",
      "Iteration #770: W_new = [29.65907176  6.60567422], MSE = (155.71857738084947, 2)\n",
      "Iteration #780: W_new = [29.65999366  6.60550705], MSE = (155.7052013256519, 2)\n",
      "Iteration #790: W_new = [29.66083169  6.60535508], MSE = (155.6930426681427, 2)\n",
      "Iteration #800: W_new = [29.66159351  6.60521694], MSE = (155.68199049397543, 2)\n",
      "Iteration #810: W_new = [29.66228603  6.60509136], MSE = (155.6719440139278, 2)\n",
      "Iteration #820: W_new = [29.66291557  6.6049772 ], MSE = (155.66281163613854, 2)\n",
      "Iteration #830: W_new = [29.66348786  6.60487343], MSE = (155.65451012395437, 2)\n",
      "Iteration #840: W_new = [29.6640081   6.60477909], MSE = (155.64696383138542, 2)\n",
      "Iteration #850: W_new = [29.66448104  6.60469333], MSE = (155.6401040089283, 2)\n",
      "Iteration #860: W_new = [29.66491096  6.60461537], MSE = (155.63386817321276, 2)\n",
      "Iteration #870: W_new = [29.66530179  6.6045445 ], MSE = (155.62819953454402, 2)\n",
      "Iteration #880: W_new = [29.66565709  6.60448007], MSE = (155.62304647697323, 2)\n",
      "Iteration #890: W_new = [29.66598007  6.6044215 ], MSE = (155.61836208603978, 2)\n",
      "Iteration #900: W_new = [29.66627369  6.60436826], MSE = (155.6141037197776, 2)\n",
      "Iteration #910: W_new = [29.66654061  6.60431986], MSE = (155.61023261899658, 2)\n",
      "Iteration #920: W_new = [29.66678326  6.60427586], MSE = (155.60671355322094, 2)\n",
      "Iteration #930: W_new = [29.66700385  6.60423586], MSE = (155.60351449900227, 2)\n",
      "Iteration #940: W_new = [29.66720438  6.60419949], MSE = (155.6006063476333, 2)\n",
      "Iteration #950: W_new = [29.66738668  6.60416643], MSE = (155.5979626395595, 2)\n",
      "Iteration #960: W_new = [29.66755241  6.60413638], MSE = (155.59555932304332, 2)\n",
      "Iteration #970: W_new = [29.66770306  6.60410906], MSE = (155.5933745348539, 2)\n",
      "Iteration #980: W_new = [29.66784002  6.60408423], MSE = (155.59138840096782, 2)\n",
      "Iteration #990: W_new = [29.66796453  6.60406165], MSE = (155.58958285544713, 2)\n",
      "Iteration #1000: W_new = [29.66807772  6.60404113], MSE = (155.5879414758324, 2)\n",
      "Iteration #1010: W_new = [29.66818062  6.60402247], MSE = (155.58644933354103, 2)\n",
      "Iteration #1020: W_new = [29.66827416  6.6040055 ], MSE = (155.58509285789964, 2)\n",
      "Iteration #1030: W_new = [29.6683592   6.60399008], MSE = (155.583859712565, 2)\n",
      "Iteration #1040: W_new = [29.66843651  6.60397607], MSE = (155.58273868320225, 2)\n",
      "Iteration #1050: W_new = [29.66850679  6.60396332], MSE = (155.58171957539346, 2)\n",
      "Iteration #1060: W_new = [29.66857068  6.60395174], MSE = (155.58079312184304, 2)\n",
      "Iteration #1070: W_new = [29.66862876  6.6039412 ], MSE = (155.57995089803185, 2)\n",
      "Iteration #1080: W_new = [29.66868156  6.60393163], MSE = (155.5791852455498, 2)\n",
      "Iteration #1090: W_new = [29.66872956  6.60392292], MSE = (155.5784892024074, 2)\n",
      "Iteration #1100: W_new = [29.6687732   6.60391501], MSE = (155.57785643969015, 2)\n",
      "Iteration #1110: W_new = [29.66881287  6.60390782], MSE = (155.57728120397672, 2)\n",
      "Iteration #1120: W_new = [29.66884893  6.60390128], MSE = (155.5767582649981, 2)\n",
      "Iteration #1130: W_new = [29.66888171  6.60389533], MSE = (155.57628286805786, 2)\n",
      "Iteration #1140: W_new = [29.66891152  6.60388993], MSE = (155.5758506907827, 2)\n",
      "Iteration #1150: W_new = [29.66893861  6.60388502], MSE = (155.57545780380627, 2)\n",
      "Iteration #1160: W_new = [29.66896325  6.60388055], MSE = (155.57510063503088, 2)\n",
      "Iteration #1170: W_new = [29.66898564  6.60387649], MSE = (155.57477593713838, 2)\n",
      "Iteration #1180: W_new = [29.66900599  6.6038728 ], MSE = (155.57448075805783, 2)\n",
      "Iteration #1190: W_new = [29.6690245   6.60386944], MSE = (155.57421241411816, 2)\n",
      "Iteration #1200: W_new = [29.66904132  6.60386639], MSE = (155.5739684656434, 2)\n",
      "Iteration #1210: W_new = [29.66905662  6.60386362], MSE = (155.57374669476653, 2)\n",
      "Iteration #1220: W_new = [29.66907052  6.6038611 ], MSE = (155.57354508526174, 2)\n",
      "Iteration #1230: W_new = [29.66908316  6.6038588 ], MSE = (155.57336180421058, 2)\n",
      "Iteration #1240: W_new = [29.66909465  6.60385672], MSE = (155.57319518533487, 2)\n",
      "Iteration #1250: W_new = [29.6691051   6.60385483], MSE = (155.57304371384606, 2)\n",
      "Iteration #1260: W_new = [29.66911459  6.6038531 ], MSE = (155.57290601267147, 2)\n",
      "Iteration #1270: W_new = [29.66912323  6.60385154], MSE = (155.5727808299333, 2)\n",
      "Iteration #1280: W_new = [29.66913108  6.60385012], MSE = (155.5726670275661, 2)\n",
      "Iteration #1290: W_new = [29.66913821  6.60384882], MSE = (155.5725635709696, 2)\n",
      "Iteration #1300: W_new = [29.6691447   6.60384765], MSE = (155.5724695196017, 2)\n",
      "Iteration #1310: W_new = [29.66915059  6.60384658], MSE = (155.5723840184271, 2)\n",
      "Iteration #1320: W_new = [29.66915595  6.6038456 ], MSE = (155.57230629014353, 2)\n",
      "Iteration #1330: W_new = [29.66916083  6.60384472], MSE = (155.57223562811467, 2)\n",
      "Iteration #1340: W_new = [29.66916526  6.60384392], MSE = (155.5721713899456, 2)\n",
      "Iteration #1350: W_new = [29.66916929  6.60384319], MSE = (155.57211299164214, 2)\n",
      "Iteration #1360: W_new = [29.66917295  6.60384252], MSE = (155.57205990230187, 2)\n",
      "Iteration #1370: W_new = [29.66917627  6.60384192], MSE = (155.57201163928755, 2)\n",
      "Iteration #1380: W_new = [29.6691793   6.60384137], MSE = (155.5719677638378, 2)\n",
      "Iteration #1390: W_new = [29.66918205  6.60384087], MSE = (155.57192787708047, 2)\n",
      "Iteration #1400: W_new = [29.66918455  6.60384042], MSE = (155.57189161640434, 2)\n",
      "Iteration #1410: W_new = [29.66918683  6.60384001], MSE = (155.5718586521636, 2)\n",
      "Iteration #1420: W_new = [29.66918889  6.60383963], MSE = (155.57182868468038, 2)\n",
      "Iteration #1430: W_new = [29.66919077  6.60383929], MSE = (155.5718014415209, 2)\n",
      "Iteration #1440: W_new = [29.66919248  6.60383898], MSE = (155.57177667501816, 2)\n",
      "Iteration #1450: W_new = [29.66919403  6.6038387 ], MSE = (155.57175416002036, 2)\n",
      "Iteration #1460: W_new = [29.66919544  6.60383844], MSE = (155.57173369184446, 2)\n",
      "Iteration #1470: W_new = [29.66919673  6.60383821], MSE = (155.57171508441513, 2)\n",
      "Iteration #1480: W_new = [29.66919789  6.603838  ], MSE = (155.57169816857294, 2)\n",
      "Iteration #1490: W_new = [29.66919895  6.60383781], MSE = (155.57168279053684, 2)\n",
      "Iteration #1500: W_new = [29.66919992  6.60383763], MSE = (155.57166881050586, 2)\n",
      "Iteration #1510: W_new = [29.66920079  6.60383747], MSE = (155.5716561013882, 2)\n",
      "Iteration #1520: W_new = [29.66920159  6.60383733], MSE = (155.57164454764634, 2)\n",
      "Iteration #1530: W_new = [29.66920232  6.6038372 ], MSE = (155.57163404424549, 2)\n",
      "Iteration #1540: W_new = [29.66920297  6.60383708], MSE = (155.5716244957003, 2)\n",
      "Iteration #1550: W_new = [29.66920357  6.60383697], MSE = (155.57161581520523, 2)\n",
      "Iteration #1560: W_new = [29.66920412  6.60383687], MSE = (155.5716079238469, 2)\n",
      "Iteration #1570: W_new = [29.66920461  6.60383678], MSE = (155.57160074988502, 2)\n",
      "Iteration #1580: W_new = [29.66920506  6.6038367 ], MSE = (155.5715942281018, 2)\n",
      "Iteration #1590: W_new = [29.66920547  6.60383663], MSE = (155.57158829920837, 2)\n",
      "Iteration #1600: W_new = [29.66920584  6.60383656], MSE = (155.57158290930556, 2)\n",
      "Iteration #1610: W_new = [29.66920618  6.6038365 ], MSE = (155.5715780093942, 2)\n",
      "Iteration #1620: W_new = [29.66920649  6.60383644], MSE = (155.57157355492936, 2)\n",
      "Iteration #1630: W_new = [29.66920677  6.60383639], MSE = (155.57156950541625, 2)\n",
      "Iteration #1640: W_new = [29.66920702  6.60383634], MSE = (155.57156582404076, 2)\n",
      "Iteration #1650: W_new = [29.66920725  6.6038363 ], MSE = (155.5715624773357, 2)\n",
      "Iteration #1660: W_new = [29.66920746  6.60383626], MSE = (155.5715594348767, 2)\n",
      "Iteration #1670: W_new = [29.66920765  6.60383623], MSE = (155.57155666900476, 2)\n",
      "Iteration #1680: W_new = [29.66920782  6.6038362 ], MSE = (155.57155415457592, 2)\n",
      "Iteration #1690: W_new = [29.66920798  6.60383617], MSE = (155.5715518687317, 2)\n",
      "Iteration #1700: W_new = [29.66920813  6.60383614], MSE = (155.5715497906914, 2)\n",
      "Iteration #1710: W_new = [29.66920826  6.60383612], MSE = (155.57154790156412, 2)\n",
      "Iteration #1720: W_new = [29.66920837  6.6038361 ], MSE = (155.5715461841756, 2)\n",
      "Iteration #1730: W_new = [29.66920848  6.60383608], MSE = (155.57154462291334, 2)\n",
      "Iteration #1740: W_new = [29.66920858  6.60383606], MSE = (155.57154320358418, 2)\n",
      "Iteration #1750: W_new = [29.66920867  6.60383605], MSE = (155.57154191328468, 2)\n",
      "Iteration #1760: W_new = [29.66920875  6.60383603], MSE = (155.57154074028506, 2)\n",
      "Iteration #1770: W_new = [29.66920882  6.60383602], MSE = (155.57153967392173, 2)\n",
      "Iteration #1780: W_new = [29.66920889  6.60383601], MSE = (155.57153870450057, 2)\n",
      "Iteration #1790: W_new = [29.66920895  6.60383599], MSE = (155.57153782320856, 2)\n",
      "Iteration #1800: W_new = [29.66920901  6.60383598], MSE = (155.57153702203408, 2)\n",
      "Iteration #1810: W_new = [29.66920906  6.60383598], MSE = (155.57153629369364, 2)\n",
      "Iteration #1820: W_new = [29.6692091   6.60383597], MSE = (155.57153563156612, 2)\n",
      "Iteration #1830: W_new = [29.66920914  6.60383596], MSE = (155.5715350296319, 2)\n",
      "Iteration #1840: W_new = [29.66920918  6.60383595], MSE = (155.5715344824192, 2)\n",
      "Iteration #1850: W_new = [29.66920922  6.60383595], MSE = (155.5715339849532, 2)\n",
      "Iteration #1860: W_new = [29.66920925  6.60383594], MSE = (155.57153353271124, 2)\n",
      "Iteration #1870: W_new = [29.66920928  6.60383594], MSE = (155.57153312158198, 2)\n",
      "Iteration #1880: W_new = [29.6692093   6.60383593], MSE = (155.57153274782806, 2)\n",
      "Iteration #1890: W_new = [29.66920932  6.60383593], MSE = (155.57153240805184, 2)\n",
      "Iteration #1900: W_new = [29.66920935  6.60383592], MSE = (155.57153209916444, 2)\n",
      "Iteration #1910: W_new = [29.66920937  6.60383592], MSE = (155.5715318183577, 2)\n",
      "Iteration #1920: W_new = [29.66920938  6.60383592], MSE = (155.57153156307902, 2)\n",
      "Iteration #1930: W_new = [29.6692094   6.60383591], MSE = (155.5715313310073, 2)\n",
      "Iteration #1940: W_new = [29.66920941  6.60383591], MSE = (155.5715311200329, 2)\n",
      "Iteration #1950: W_new = [29.66920943  6.60383591], MSE = (155.57153092823825, 2)\n",
      "Iteration #1960: W_new = [29.66920944  6.60383591], MSE = (155.5715307538795, 2)\n",
      "Iteration #1970: W_new = [29.66920945  6.6038359 ], MSE = (155.57153059537123, 2)\n",
      "Iteration #1980: W_new = [29.66920946  6.6038359 ], MSE = (155.57153045127316, 2)\n",
      "Iteration #1990: W_new = [29.66920947  6.6038359 ], MSE = (155.5715303202747, 2)\n",
      "Iteration #2000: W_new = [29.66920948  6.6038359 ], MSE = (155.57153020118554, 2)\n",
      "Iteration #2010: W_new = [29.66920948  6.6038359 ], MSE = (155.57153009292227, 2)\n",
      "Iteration #2020: W_new = [29.66920949  6.6038359 ], MSE = (155.57152999450093, 2)\n",
      "Iteration #2030: W_new = [29.6692095  6.6038359], MSE = (155.57152990502726, 2)\n",
      "Iteration #2040: W_new = [29.6692095   6.60383589], MSE = (155.5715298236875, 2)\n",
      "Iteration #2050: W_new = [29.66920951  6.60383589], MSE = (155.57152974974227, 2)\n",
      "Iteration #2060: W_new = [29.66920951  6.60383589], MSE = (155.5715296825193, 2)\n",
      "Iteration #2070: W_new = [29.66920952  6.60383589], MSE = (155.57152962140782, 2)\n",
      "Iteration #2080: W_new = [29.66920952  6.60383589], MSE = (155.57152956585156, 2)\n",
      "Iteration #2090: W_new = [29.66920952  6.60383589], MSE = (155.57152951534593, 2)\n",
      "Iteration #2100: W_new = [29.66920953  6.60383589], MSE = (155.57152946943182, 2)\n",
      "Iteration #2110: W_new = [29.66920953  6.60383589], MSE = (155.5715294276917, 2)\n",
      "Iteration #2120: W_new = [29.66920953  6.60383589], MSE = (155.5715293897462, 2)\n",
      "Iteration #2130: W_new = [29.66920954  6.60383589], MSE = (155.57152935525014, 2)\n",
      "Iteration #2140: W_new = [29.66920954  6.60383589], MSE = (155.57152932389005, 2)\n",
      "Iteration #2150: W_new = [29.66920954  6.60383589], MSE = (155.57152929538105, 2)\n",
      "Iteration #2160: W_new = [29.66920954  6.60383589], MSE = (155.5715292694638, 2)\n",
      "Iteration #2170: W_new = [29.66920954  6.60383589], MSE = (155.57152924590258, 2)\n",
      "Iteration #2180: W_new = [29.66920954  6.60383589], MSE = (155.57152922448327, 2)\n",
      "Iteration #2190: W_new = [29.66920955  6.60383589], MSE = (155.57152920501102, 2)\n",
      "Iteration #2200: W_new = [29.66920955  6.60383589], MSE = (155.57152918730927, 2)\n",
      "Iteration #2210: W_new = [29.66920955  6.60383589], MSE = (155.57152917121684, 2)\n",
      "Iteration #2220: W_new = [29.66920955  6.60383589], MSE = (155.57152915658705, 2)\n",
      "Iteration #2230: W_new = [29.66920955  6.60383589], MSE = (155.57152914328714, 2)\n",
      "Iteration #2240: W_new = [29.66920955  6.60383589], MSE = (155.5715291311963, 2)\n",
      "Iteration #2250: W_new = [29.66920955  6.60383589], MSE = (155.57152912020493, 2)\n",
      "Iteration #2260: W_new = [29.66920955  6.60383589], MSE = (155.5715291102126, 2)\n",
      "Iteration #2270: W_new = [29.66920955  6.60383589], MSE = (155.57152910112865, 2)\n",
      "Iteration #2280: W_new = [29.66920955  6.60383589], MSE = (155.57152909287046, 2)\n",
      "Iteration #2290: W_new = [29.66920955  6.60383589], MSE = (155.571529085363, 2)\n",
      "Iteration #2300: W_new = [29.66920955  6.60383589], MSE = (155.57152907853816, 2)\n",
      "Iteration #2310: W_new = [29.66920955  6.60383588], MSE = (155.5715290723336, 2)\n",
      "Iteration #2320: W_new = [29.66920956  6.60383588], MSE = (155.57152906669302, 2)\n",
      "Iteration #2330: W_new = [29.66920956  6.60383588], MSE = (155.57152906156546, 2)\n",
      "Iteration #2340: W_new = [29.66920956  6.60383588], MSE = (155.57152905690404, 2)\n",
      "Iteration #2350: W_new = [29.66920956  6.60383588], MSE = (155.57152905266625, 2)\n",
      "Iteration #2360: W_new = [29.66920956  6.60383588], MSE = (155.57152904881386, 2)\n",
      "Iteration #2370: W_new = [29.66920956  6.60383588], MSE = (155.57152904531182, 2)\n",
      "Iteration #2380: W_new = [29.66920956  6.60383588], MSE = (155.571529042128, 2)\n",
      "Iteration #2390: W_new = [29.66920956  6.60383588], MSE = (155.5715290392336, 2)\n",
      "Iteration #2400: W_new = [29.66920956  6.60383588], MSE = (155.5715290366024, 2)\n",
      "Iteration #2410: W_new = [29.66920956  6.60383588], MSE = (155.57152903421053, 2)\n",
      "Iteration #2420: W_new = [29.66920956  6.60383588], MSE = (155.57152903203576, 2)\n",
      "Iteration #2430: W_new = [29.66920956  6.60383588], MSE = (155.5715290300586, 2)\n",
      "Iteration #2440: W_new = [29.66920956  6.60383588], MSE = (155.57152902826152, 2)\n",
      "Iteration #2450: W_new = [29.66920956  6.60383588], MSE = (155.57152902662773, 2)\n",
      "Iteration #2460: W_new = [29.66920956  6.60383588], MSE = (155.57152902514227, 2)\n",
      "Iteration #2470: W_new = [29.66920956  6.60383588], MSE = (155.5715290237921, 2)\n",
      "Iteration #2480: W_new = [29.66920956  6.60383588], MSE = (155.57152902256468, 2)\n",
      "Iteration #2490: W_new = [29.66920956  6.60383588], MSE = (155.5715290214486, 2)\n",
      "Iteration #2500: W_new = [29.66920956  6.60383588], MSE = (155.57152902043407, 2)\n",
      "Iteration #2510: W_new = [29.66920956  6.60383588], MSE = (155.5715290195116, 2)\n",
      "Iteration #2520: W_new = [29.66920956  6.60383588], MSE = (155.57152901867335, 2)\n",
      "Iteration #2530: W_new = [29.66920956  6.60383588], MSE = (155.57152901791113, 2)\n",
      "Iteration #2540: W_new = [29.66920956  6.60383588], MSE = (155.57152901721807, 2)\n",
      "Iteration #2550: W_new = [29.66920956  6.60383588], MSE = (155.57152901658796, 2)\n",
      "Iteration #2560: W_new = [29.66920956  6.60383588], MSE = (155.57152901601518, 2)\n",
      "Iteration #2570: W_new = [29.66920956  6.60383588], MSE = (155.5715290154943, 2)\n",
      "Iteration #2580: W_new = [29.66920956  6.60383588], MSE = (155.57152901502087, 2)\n",
      "Iteration #2590: W_new = [29.66920956  6.60383588], MSE = (155.57152901459057, 2)\n",
      "Iteration #2600: W_new = [29.66920956  6.60383588], MSE = (155.57152901419929, 2)\n",
      "Iteration #2610: W_new = [29.66920956  6.60383588], MSE = (155.57152901384393, 2)\n",
      "Iteration #2620: W_new = [29.66920956  6.60383588], MSE = (155.57152901352077, 2)\n",
      "Iteration #2630: W_new = [29.66920956  6.60383588], MSE = (155.5715290132268, 2)\n",
      "Iteration #2640: W_new = [29.66920956  6.60383588], MSE = (155.57152901295993, 2)\n",
      "Iteration #2650: W_new = [29.66920956  6.60383588], MSE = (155.57152901271695, 2)\n",
      "Iteration #2660: W_new = [29.66920956  6.60383588], MSE = (155.57152901249628, 2)\n",
      "Iteration #2670: W_new = [29.66920956  6.60383588], MSE = (155.57152901229546, 2)\n",
      "Iteration #2680: W_new = [29.66920956  6.60383588], MSE = (155.57152901211288, 2)\n",
      "Iteration #2690: W_new = [29.66920956  6.60383588], MSE = (155.5715290119469, 2)\n",
      "Iteration #2700: W_new = [29.66920956  6.60383588], MSE = (155.57152901179603, 2)\n",
      "Iteration #2710: W_new = [29.66920956  6.60383588], MSE = (155.57152901165915, 2)\n",
      "Iteration #2720: W_new = [29.66920956  6.60383588], MSE = (155.57152901153432, 2)\n",
      "Iteration #2730: W_new = [29.66920956  6.60383588], MSE = (155.5715290114209, 2)\n",
      "Iteration #2740: W_new = [29.66920956  6.60383588], MSE = (155.57152901131786, 2)\n",
      "Iteration #2750: W_new = [29.66920956  6.60383588], MSE = (155.5715290112242, 2)\n",
      "Iteration #2760: W_new = [29.66920956  6.60383588], MSE = (155.57152901113892, 2)\n",
      "Iteration #2770: W_new = [29.66920956  6.60383588], MSE = (155.5715290110614, 2)\n",
      "Iteration #2780: W_new = [29.66920956  6.60383588], MSE = (155.57152901099107, 2)\n",
      "Iteration #2790: W_new = [29.66920956  6.60383588], MSE = (155.5715290109271, 2)\n",
      "Iteration #2800: W_new = [29.66920956  6.60383588], MSE = (155.5715290108688, 2)\n",
      "Iteration #2810: W_new = [29.66920956  6.60383588], MSE = (155.5715290108158, 2)\n",
      "Iteration #2820: W_new = [29.66920956  6.60383588], MSE = (155.57152901076782, 2)\n",
      "Iteration #2830: W_new = [29.66920956  6.60383588], MSE = (155.57152901072413, 2)\n",
      "Iteration #2840: W_new = [29.66920956  6.60383588], MSE = (155.57152901068463, 2)\n",
      "Iteration #2850: W_new = [29.66920956  6.60383588], MSE = (155.5715290106487, 2)\n",
      "Iteration #2860: W_new = [29.66920956  6.60383588], MSE = (155.57152901061596, 2)\n",
      "Iteration #2870: W_new = [29.66920956  6.60383588], MSE = (155.57152901058626, 2)\n",
      "Iteration #2880: W_new = [29.66920956  6.60383588], MSE = (155.5715290105592, 2)\n",
      "Iteration #2890: W_new = [29.66920956  6.60383588], MSE = (155.57152901053473, 2)\n",
      "Iteration #2900: W_new = [29.66920956  6.60383588], MSE = (155.57152901051236, 2)\n",
      "Iteration #2910: W_new = [29.66920956  6.60383588], MSE = (155.5715290104921, 2)\n",
      "Iteration #2920: W_new = [29.66920956  6.60383588], MSE = (155.5715290104734, 2)\n",
      "Iteration #2930: W_new = [29.66920956  6.60383588], MSE = (155.57152901045666, 2)\n",
      "Iteration #2940: W_new = [29.66920956  6.60383588], MSE = (155.5715290104416, 2)\n",
      "Iteration #2950: W_new = [29.66920956  6.60383588], MSE = (155.57152901042758, 2)\n",
      "Iteration #2960: W_new = [29.66920956  6.60383588], MSE = (155.57152901041502, 2)\n",
      "Iteration #2970: W_new = [29.66920956  6.60383588], MSE = (155.57152901040365, 2)\n",
      "Iteration #2980: W_new = [29.66920956  6.60383588], MSE = (155.57152901039325, 2)\n",
      "Iteration #2990: W_new = [29.66920956  6.60383588], MSE = (155.57152901038384, 2)\n",
      "Iteration #3000: W_new = [29.66920956  6.60383588], MSE = (155.57152901037506, 2)\n",
      "Iteration #3010: W_new = [29.66920956  6.60383588], MSE = (155.57152901036724, 2)\n",
      "Iteration #3020: W_new = [29.66920956  6.60383588], MSE = (155.57152901035997, 2)\n",
      "Iteration #3030: W_new = [29.66920956  6.60383588], MSE = (155.5715290103537, 2)\n",
      "Iteration #3040: W_new = [29.66920956  6.60383588], MSE = (155.57152901034797, 2)\n",
      "Iteration #3050: W_new = [29.66920956  6.60383588], MSE = (155.57152901034277, 2)\n",
      "Iteration #3060: W_new = [29.66920956  6.60383588], MSE = (155.57152901033805, 2)\n",
      "Iteration #3070: W_new = [29.66920956  6.60383588], MSE = (155.57152901033342, 2)\n",
      "Iteration #3080: W_new = [29.66920956  6.60383588], MSE = (155.57152901032924, 2)\n",
      "Iteration #3090: W_new = [29.66920956  6.60383588], MSE = (155.57152901032563, 2)\n",
      "Iteration #3100: W_new = [29.66920956  6.60383588], MSE = (155.5715290103225, 2)\n",
      "Iteration #3110: W_new = [29.66920956  6.60383588], MSE = (155.57152901031938, 2)\n",
      "Iteration #3120: W_new = [29.66920956  6.60383588], MSE = (155.57152901031674, 2)\n",
      "Iteration #3130: W_new = [29.66920956  6.60383588], MSE = (155.57152901031412, 2)\n",
      "Iteration #3140: W_new = [29.66920956  6.60383588], MSE = (155.571529010312, 2)\n",
      "Iteration #3150: W_new = [29.66920956  6.60383588], MSE = (155.57152901031003, 2)\n",
      "Iteration #3160: W_new = [29.66920956  6.60383588], MSE = (155.57152901030793, 2)\n",
      "Iteration #3170: W_new = [29.66920956  6.60383588], MSE = (155.57152901030628, 2)\n",
      "Iteration #3180: W_new = [29.66920956  6.60383588], MSE = (155.5715290103048, 2)\n",
      "Iteration #3190: W_new = [29.66920956  6.60383588], MSE = (155.57152901030324, 2)\n",
      "Iteration #3200: W_new = [29.66920956  6.60383588], MSE = (155.57152901030219, 2)\n",
      "Iteration #3210: W_new = [29.66920956  6.60383588], MSE = (155.57152901030105, 2)\n",
      "Iteration #3220: W_new = [29.66920956  6.60383588], MSE = (155.57152901030008, 2)\n",
      "Iteration #3230: W_new = [29.66920956  6.60383588], MSE = (155.5715290102991, 2)\n",
      "Iteration #3240: W_new = [29.66920956  6.60383588], MSE = (155.571529010298, 2)\n",
      "Iteration #3250: W_new = [29.66920956  6.60383588], MSE = (155.57152901029707, 2)\n",
      "Iteration #3260: W_new = [29.66920956  6.60383588], MSE = (155.57152901029647, 2)\n",
      "Iteration #3270: W_new = [29.66920956  6.60383588], MSE = (155.571529010296, 2)\n",
      "Iteration #3280: W_new = [29.66920956  6.60383588], MSE = (155.57152901029542, 2)\n",
      "Iteration #3290: W_new = [29.66920956  6.60383588], MSE = (155.57152901029485, 2)\n",
      "Iteration #3300: W_new = [29.66920956  6.60383588], MSE = (155.5715290102944, 2)\n",
      "Iteration #3310: W_new = [29.66920956  6.60383588], MSE = (155.5715290102939, 2)\n",
      "Iteration #3320: W_new = [29.66920956  6.60383588], MSE = (155.57152901029335, 2)\n",
      "Iteration #3330: W_new = [29.66920956  6.60383588], MSE = (155.57152901029275, 2)\n",
      "Iteration #3340: W_new = [29.66920956  6.60383588], MSE = (155.5715290102923, 2)\n",
      "Iteration #3350: W_new = [29.66920956  6.60383588], MSE = (155.57152901029178, 2)\n",
      "Iteration #3360: W_new = [29.66920956  6.60383588], MSE = (155.5715290102913, 2)\n"
     ]
    },
    {
     "data": {
      "text/plain": [
       "array([29.66920956,  6.60383588])"
      ]
     },
     "execution_count": 79,
     "metadata": {},
     "output_type": "execute_result"
    }
   ],
   "source": [
    "n = X.shape[1]\n",
    "alpha = 1e-2\n",
    "W = np.array([1, 0.5])\n",
    "W_pred = np.array([0,0])\n",
    "print(f'Number of objects = {n} \\\n",
    "       \\nLearning rate = {alpha} \\\n",
    "       \\nInitial weights = {W} \\n')\n",
    "\n",
    "i=1\n",
    "while (W[0]-W_pred[0]>alpha) | (W[1]-W_pred[1]>alpha):\n",
    "    y_pred = np.dot(W, X)\n",
    "    err = calc_mse(y, y_pred)\n",
    "#     for k in range(W.shape[0]):\n",
    "#         W[k] -= alpha * (1/n * 2 * np.sum(X[k] * (y_pred - y)))\n",
    "    W_pred = W.copy()\n",
    "    W -= alpha * (1/n * 2 * np.sum(X * (y_pred - y),axis=1))\n",
    "    if i % 10 == 0:\n",
    "        print(f'Iteration #{i}: W_new = {W_pred}, MSE = {err,2}')\n",
    "        alpha /= 1.1\n",
    "    i+=1\n",
    "W"
   ]
  },
  {
   "cell_type": "code",
   "execution_count": 81,
   "metadata": {},
   "outputs": [
    {
     "name": "stdout",
     "output_type": "stream",
     "text": [
      "Number of objects = 10        \n",
      "Learning rate = 1.2361118984490902e-16        \n",
      "Initial weights = [1.  0.5] \n",
      "\n",
      "0.01 44.525885301240166\n",
      "Потребовалось 3999 итераций\n",
      "Выбрано значение альфа 0.01\n",
      "Найдены коэффициенты: [43.97488723  4.00972181].\n",
      "MSE: 44.525885301240166.\n",
      "CPU times: user 210 ms, sys: 3.98 ms, total: 214 ms\n",
      "Wall time: 211 ms\n"
     ]
    }
   ],
   "source": [
    "%%time\n",
    "n = X.shape[1]\n",
    "# alpha = 1e-2\n",
    "W = np.array([1, 0.5])\n",
    "W_old  = np.array([0,0])\n",
    "print(f'Number of objects = {n} \\\n",
    "       \\nLearning rate = {alpha} \\\n",
    "       \\nInitial weights = {W} \\n')\n",
    "mse = np.inf\n",
    "w_new = np.array([])\n",
    "# выбранное значение alpha_checked сначала приравняем к бесконечности (т.к. alpha_checked еще не определено)\n",
    "alpha_checked = np.inf\n",
    "# значение alpha подбирается из короткого списка возможных значений\n",
    "# в списке numpy массиве W будут храниться значения, которые будут проверяться на mse\n",
    "# в списке numpy массиве W_old будут храниться значения, которые уже проверены на mse; если mse удовлетворит критерию в коде\n",
    "# то W_old сохранится в w_new, alpha - в alpha_checked\n",
    "for alpha in [1e-2,1e-3,1e-4,1e-5,1e-6,1e-7,1e-8,1e-9,1e-10,1e-11]:\n",
    "    W = np.array([1, 0.5])\n",
    "    W_old  = np.array([0,0])\n",
    "    i=1\n",
    "    while (W[0]-W_old[0]>alpha) | (W[1]-W_old[1]>alpha):\n",
    "        y_pred = np.dot(W, X)\n",
    "        err = calc_mse(y, y_pred)\n",
    "        W_old = W.copy()        \n",
    "#         это будет использовано в следующем цикле для вычисления y_pred и err; для текущих W err уже вычислена\n",
    "        W -= alpha * (1/n * 2 * np.sum(X * (y_pred - y),axis=1))\n",
    "#         if i % 10 == 0:\n",
    "#             alpha /= 1.1\n",
    "        i+=1\n",
    "    if err<mse:\n",
    "        mse = err\n",
    "        w_new = W_old\n",
    "        alpha_checked = alpha#/(1/1.1)\n",
    "    else:\n",
    "        break\n",
    "    print(alpha_checked, mse)\n",
    "print(f'Потребовалось {i-1} итераций')\n",
    "print(f'Выбрано значение альфа {alpha_checked}')\n",
    "print(f'Найдены коэффициенты: {w_new}.')\n",
    "print(f'MSE: {mse}.')"
   ]
  },
  {
   "cell_type": "code",
   "execution_count": null,
   "metadata": {},
   "outputs": [],
   "source": []
  }
 ],
 "metadata": {
  "colab": {
   "collapsed_sections": [],
   "name": "Lesson1.ipynb",
   "provenance": []
  },
  "kernelspec": {
   "display_name": "Python 3",
   "language": "python",
   "name": "python3"
  },
  "language_info": {
   "codemirror_mode": {
    "name": "ipython",
    "version": 3
   },
   "file_extension": ".py",
   "mimetype": "text/x-python",
   "name": "python",
   "nbconvert_exporter": "python",
   "pygments_lexer": "ipython3",
   "version": "3.7.6"
  }
 },
 "nbformat": 4,
 "nbformat_minor": 4
}
